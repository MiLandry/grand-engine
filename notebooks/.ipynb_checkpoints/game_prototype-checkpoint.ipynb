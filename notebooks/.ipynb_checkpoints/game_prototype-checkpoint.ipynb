{
 "cells": [
  {
   "cell_type": "markdown",
   "metadata": {},
   "source": [
    "# Video Game Prototype Development\n",
    "\n",
    "This notebook is for experimenting with game mechanics and prototyping features."
   ]
  },
  {
   "cell_type": "code",
   "execution_count": null,
   "metadata": {},
   "source": [
    "import sys\n",
    "sys.path.append('../')\n",
    "\n",
    "import pygame\n",
    "import numpy as np\n",
    "import matplotlib.pyplot as plt\n",
    "from src.game.engine import GameEngine"
   ],
   "outputs": []
  },
  {
   "cell_type": "markdown",
   "metadata": {},
   "source": [
    "## Game Engine Testing\n",
    "\n",
    "Test basic game engine functionality:"
   ]
  },
  {
   "cell_type": "code",
   "execution_count": null,
   "metadata": {},
   "source": [
    "# Initialize pygame for testing\n",
    "pygame.init()\n",
    "print(\"Pygame version:\", pygame.version.ver)\n",
    "print(\"Available display modes:\", pygame.display.list_modes()[:5])  # Show first 5"
   ],
   "outputs": []
  },
  {
   "cell_type": "markdown",
   "metadata": {},
   "source": [
    "## Prototype Ideas\n",
    "\n",
    "Use this space to experiment with:\n",
    "- Game physics\n",
    "- Sprite animations\n",
    "- Collision detection\n",
    "- Sound effects\n",
    "- Game mechanics"
   ]
  },
  {
   "cell_type": "code",
   "execution_count": null,
   "metadata": {},
   "source": [
    "# Example: Simple 2D vector math for game physics\n",
    "def create_velocity_vector(speed, angle_degrees):\n",
    "    angle_rad = np.radians(angle_degrees)\n",
    "    vx = speed * np.cos(angle_rad)\n",
    "    vy = speed * np.sin(angle_rad)\n",
    "    return np.array([vx, vy])\n",
    "\n",
    "# Test it\n",
    "velocity = create_velocity_vector(100, 45)\n",
    "print(f\"Velocity vector at 45°: {velocity}\")"
   ],
   "outputs": []
  }
 ],
 "metadata": {
  "kernelspec": {
   "display_name": "Python 3",
   "language": "python",
   "name": "python3"
  },
  "language_info": {
   "codemirror_mode": {
    "name": "ipython",
    "version": 3
   },
   "file_extension": ".py",
   "mimetype": "text/x-python",
   "name": "python",
   "nbconvert_exporter": "python",
   "pygments_lexer": "ipython3",
   "version": "3.8.0"
  }
 },
 "nbformat": 4,
 "nbformat_minor": 4
}